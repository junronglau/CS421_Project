{
  "nbformat": 4,
  "nbformat_minor": 0,
  "metadata": {
    "colab": {
      "name": "IS421_Clustering&Underbagging_Approach.ipynb",
      "provenance": [],
      "collapsed_sections": [],
      "toc_visible": true
    },
    "kernelspec": {
      "display_name": "Python 3",
      "language": "python",
      "name": "python3"
    },
    "language_info": {
      "codemirror_mode": {
        "name": "ipython",
        "version": 3
      },
      "file_extension": ".py",
      "mimetype": "text/x-python",
      "name": "python",
      "nbconvert_exporter": "python",
      "pygments_lexer": "ipython3",
      "version": "3.6.9"
    }
  },
  "cells": [
    {
      "cell_type": "markdown",
      "metadata": {
        "colab_type": "text",
        "id": "2gKv2g2GwdkW"
      },
      "source": [
        "# Approach: Undersampling + Underbagging  \n",
        "# Representation: word2vec "
      ]
    },
    {
      "cell_type": "code",
      "metadata": {
        "colab_type": "code",
        "id": "XRiO8vYfjCZH",
        "colab": {}
      },
      "source": [
        "import pandas as pd  \n",
        "import numpy as np\n",
        "import matplotlib.pyplot as plt\n",
        "import pickle\n",
        "import pandas as pd\n",
        "import numpy\n",
        "import re\n",
        "import os\n",
        "import numpy as np\n",
        "import gensim\n",
        "from sklearn.cluster import KMeans\n",
        "from sklearn.decomposition import PCA\n",
        "from gensim.models import Word2Vec\n",
        "from sklearn.metrics import f1_score, recall_score, precision_score, confusion_matrix,auc,roc_curve,matthews_corrcoef\n",
        "from sklearn.model_selection import train_test_split\n",
        "from sklearn.feature_extraction.text import TfidfVectorizer"
      ],
      "execution_count": 0,
      "outputs": []
    },
    {
      "cell_type": "markdown",
      "metadata": {
        "colab_type": "text",
        "id": "yW-MQmxmwdka"
      },
      "source": [
        "# Load dataset"
      ]
    },
    {
      "cell_type": "code",
      "metadata": {
        "colab_type": "code",
        "id": "SAYkmOU6jCZN",
        "outputId": "361f9b0f-2fc4-4cbe-ddf9-8d08171ddbc9",
        "colab": {
          "base_uri": "https://localhost:8080/",
          "height": 51
        }
      },
      "source": [
        "df = pd.read_csv('../ML_Project_ETL_EDA/Twitter_EDA_Dataset/10k_cleaned.csv')\n",
        "\n",
        "print(\"Before dropping null values:\",str(df.shape[0]))\n",
        "df = df.dropna(subset=['cleaned_text'])\n",
        "print(\"After dropping null values:\",str(df.shape[0]))"
      ],
      "execution_count": 0,
      "outputs": [
        {
          "output_type": "stream",
          "text": [
            "Before dropping null values: 17267\n",
            "After dropping null values: 17267\n"
          ],
          "name": "stdout"
        }
      ]
    },
    {
      "cell_type": "markdown",
      "metadata": {
        "colab_type": "text",
        "id": "hpzwxFawwdkj"
      },
      "source": [
        "# Split into training and testing set"
      ]
    },
    {
      "cell_type": "code",
      "metadata": {
        "colab_type": "code",
        "id": "UbQ6VL5djCZl",
        "colab": {}
      },
      "source": [
        "X = df['cleaned_text']\n",
        "y = df['Sentiment']\n",
        "\n",
        "X_train, X_test, y_train, y_test = train_test_split(X,y,test_size=0.2, random_state=1)"
      ],
      "execution_count": 0,
      "outputs": []
    },
    {
      "cell_type": "markdown",
      "metadata": {
        "colab_type": "text",
        "id": "6fsLW2Sywdkm"
      },
      "source": [
        "# Training the word2vec model"
      ]
    },
    {
      "cell_type": "markdown",
      "metadata": {
        "id": "jLGPmQ687Nlt",
        "colab_type": "text"
      },
      "source": [
        "Train the model"
      ]
    },
    {
      "cell_type": "code",
      "metadata": {
        "colab_type": "code",
        "id": "g2XAx8KajCZu",
        "colab": {}
      },
      "source": [
        "all_content_train = []\n",
        "for em in X.values:\n",
        "    all_content_train.append(em.split())"
      ],
      "execution_count": 0,
      "outputs": []
    },
    {
      "cell_type": "code",
      "metadata": {
        "colab_type": "code",
        "id": "_OQUNjEEjCZy",
        "colab": {}
      },
      "source": [
        "# Define and train model\n",
        "w2v_model = Word2Vec(all_content_train,min_count = 1)"
      ],
      "execution_count": 0,
      "outputs": []
    },
    {
      "cell_type": "code",
      "metadata": {
        "colab_type": "code",
        "id": "hKSAI5j35xnF",
        "colab": {}
      },
      "source": [
        "# from gensim.test.utils import get_tmpfile\n",
        "# path = get_tmpfile(\"word2vec.model\")\n",
        "# w2v_model.save(path)"
      ],
      "execution_count": 0,
      "outputs": []
    },
    {
      "cell_type": "markdown",
      "metadata": {
        "id": "Rx67GOgK7Nl2",
        "colab_type": "text"
      },
      "source": [
        "# Alternatively, load the pre-trained model (saved from previous training)"
      ]
    },
    {
      "cell_type": "code",
      "metadata": {
        "colab_type": "code",
        "id": "OhRAwmnWgPdO",
        "colab": {}
      },
      "source": [
        "# Trained model for twitter\n",
        "# w2v_model = Word2Vec.load('..\\Trained Embeddings\\word2vec-twitter\\word2vec.model')\n",
        "\n",
        "# Trained model for reviews\n",
        "# w2v_model = Word2Vec.load('..\\Trained Embeddings\\word2vec-reviews\\word2vec(reviews).model')"
      ],
      "execution_count": 0,
      "outputs": []
    },
    {
      "cell_type": "markdown",
      "metadata": {
        "colab_type": "text",
        "id": "m2UZXwtJwdks"
      },
      "source": [
        "# Average the embeddings of all words in our sentence to get the sentence embeddings"
      ]
    },
    {
      "cell_type": "code",
      "metadata": {
        "colab_type": "code",
        "id": "M1Rh-q0OPNfH",
        "colab": {}
      },
      "source": [
        "def avg_sentence_vector(words, model, num_features, vocab):\n",
        "    #function to average all words vectors in a given paragraph\n",
        "    featureVec = np.zeros((num_features,), dtype=\"float32\")\n",
        "    nwords = 0\n",
        "\n",
        "    for word in words:\n",
        "        if word in vocab:\n",
        "            nwords = nwords+1\n",
        "            featureVec = np.add(featureVec, model[word])\n",
        "\n",
        "    if nwords>0:\n",
        "        featureVec = np.divide(featureVec, nwords)\n",
        "    return featureVec"
      ],
      "execution_count": 0,
      "outputs": []
    },
    {
      "cell_type": "code",
      "metadata": {
        "colab_type": "code",
        "id": "0aRxpnxdjCZ9",
        "outputId": "d291b608-f8a3-47a2-ca8f-feabc0fd69d3",
        "colab": {
          "base_uri": "https://localhost:8080/",
          "height": 71
        }
      },
      "source": [
        "num_features = w2v_model.vector_size\n",
        "vocab_list = list(w2v_model.wv.vocab)\n",
        "\n",
        "df_emb = pd.DataFrame({'text':X_train,\n",
        "                       'sentiment' : y_train,\n",
        "                        'embeddings':X_train.str.split().apply(avg_sentence_vector,model=w2v_model,num_features = num_features,vocab = vocab_list)})\n",
        "df_maj = df_emb.loc[df_emb['sentiment'] == 1]\n",
        "df_min = df_emb.loc[df_emb['sentiment'] == 0]"
      ],
      "execution_count": 0,
      "outputs": [
        {
          "output_type": "stream",
          "text": [
            "C:\\Users\\Junrong\\Anaconda3\\lib\\site-packages\\ipykernel_launcher.py:9: DeprecationWarning: Call to deprecated `__getitem__` (Method will be removed in 4.0.0, use self.wv.__getitem__() instead).\n",
            "  if __name__ == '__main__':\n"
          ],
          "name": "stderr"
        }
      ]
    },
    {
      "cell_type": "markdown",
      "metadata": {
        "colab_type": "text",
        "id": "rNtRp2Kkwdk0"
      },
      "source": [
        "# Clustering the majority class"
      ]
    },
    {
      "cell_type": "code",
      "metadata": {
        "colab_type": "code",
        "id": "eAgLCEENjCaB",
        "outputId": "8a9b62f8-e724-48e6-c554-4748b72237a0",
        "colab": {
          "base_uri": "https://localhost:8080/",
          "height": 263
        }
      },
      "source": [
        "#Cluster majority class only\n",
        "majority_emb = list(df_maj['embeddings'])\n",
        "\n",
        "kmeans_model = KMeans(n_clusters=5, init='k-means++', max_iter=100) \n",
        "X = kmeans_model.fit(majority_emb)\n",
        "labels=kmeans_model.labels_.tolist()\n",
        "l = kmeans_model.fit_predict(majority_emb)\n",
        "\n",
        "#PCA so we are able to visualize data on a graph\n",
        "pca = PCA(n_components=2).fit(majority_emb)\n",
        "datapoint = pca.transform(majority_emb)\n",
        "\n",
        "plt.figure\n",
        "label1 = ['#FFFF00', '#008000', '#0000FF', '#800080','#800000']\n",
        "color = [label1[i] for i in labels]\n",
        "plt.scatter(datapoint[:, 0], datapoint[:, 1], c=color)\n",
        "centroids = kmeans_model.cluster_centers_\n",
        "centroidpoint = pca.transform(centroids)\n",
        "plt.scatter(centroidpoint[:, 0], centroidpoint[:, 1], marker='^', s=150, c='#000000')\n",
        "plt.show()\n"
      ],
      "execution_count": 0,
      "outputs": [
        {
          "output_type": "display_data",
          "data": {
            "image/png": "[encoded data removed]",
            "text/plain": [
              "<Figure size 432x288 with 1 Axes>"
            ]
          },
          "metadata": {
            "tags": [],
            "needs_background": "light"
          }
        }
      ]
    },
    {
      "cell_type": "markdown",
      "metadata": {
        "colab_type": "text",
        "id": "tbo8OAD2wdke"
      },
      "source": [
        "# Get ratio of the classes\n",
        "We get the ratio of the class ratios so that we can downsample to this ratio later on to match the size of the miniority class"
      ]
    },
    {
      "cell_type": "code",
      "metadata": {
        "colab_type": "code",
        "id": "rOr3haIPplyY",
        "colab": {}
      },
      "source": [
        "Class_ratio = df_emb.sentiment.value_counts()\n",
        "ratio = Class_ratio[0]/Class_ratio[1]"
      ],
      "execution_count": 0,
      "outputs": []
    },
    {
      "cell_type": "markdown",
      "metadata": {
        "colab_type": "text",
        "id": "4KKjrrj6wdk3"
      },
      "source": [
        "# Train the bagging ensembles"
      ]
    },
    {
      "cell_type": "code",
      "metadata": {
        "colab_type": "code",
        "id": "jyd4SF-HjCaG",
        "colab": {}
      },
      "source": [
        "from sklearn.svm import SVC\n",
        "from sklearn.metrics import f1_score\n",
        "import warnings\n",
        "warnings.filterwarnings('ignore')\n",
        "#Our cluster size definitely wont be even everytime. Thus we will take X% (ratio of minority to majority class) \n",
        "#of the data points of each cluster, and form a new bootstrap sample. Sampling with replacement.  \n",
        "df_maj['cluster'] = labels\n",
        "\n",
        "#for every cluster, randomly select X% with replacement, put in a dataframe tgt with min class. Repeat 10 times to get our 10 bootstrap samples\n",
        "#Then train each sample on 1 classifier (i.e. total we will have 10 classifiers)\n",
        "\n",
        "X_test_emb = X_test.str.split().apply(avg_sentence_vector,model=w2v_model,num_features = num_features,vocab = vocab_list)\n",
        "y_pred_soft = 0\n",
        "y_pred_hard = 0\n",
        "clf = SVC(kernel='linear',probability=True)\n",
        "\n",
        "#Set base estimators to be 5 (change accordingly if needed)\n",
        "num_estimators = 5\n",
        "for i in range(num_estimators):\n",
        "#     select X% for every cluster \n",
        "#     join with min class\n",
        "#     train on a classifier\n",
        "#     predict on test set\n",
        "#     store output somewhere\n",
        "    \n",
        "    df_bootstrap = df_min.copy()\n",
        "    for i in range(5):\n",
        "        df_bootstrap = df_bootstrap.append(df_maj[df_maj['cluster'] == i].sample(frac = ratio))\n",
        "\n",
        "    #if u want to check how many samples we are taking from each cluster\n",
        "    # print(df_bootstrap[df_bootstrap.sentiment == 1].cluster.value_counts())\n",
        "\n",
        "    X = df_bootstrap['embeddings']\n",
        "    y = df_bootstrap['sentiment']\n",
        "    clf.fit(list(X), y)\n",
        "    y_pred_hard += clf.predict(list(X_test_emb))\n",
        "    y_pred_soft += clf.predict_proba(list(X_test_emb))\n"
      ],
      "execution_count": 0,
      "outputs": []
    },
    {
      "cell_type": "markdown",
      "metadata": {
        "colab_type": "text",
        "id": "HwWuEaTjwdk6"
      },
      "source": [
        "# Perform a soft voting aggregation method on all our classifiers"
      ]
    },
    {
      "cell_type": "code",
      "metadata": {
        "colab_type": "code",
        "id": "P6z2N640jCaM",
        "colab": {}
      },
      "source": [
        "def PlotROC(y_test,pred):\n",
        "    \n",
        "    fpr, tpr, threshold = roc_curve(y_test, pred)\n",
        "    roc_auc = auc(fpr, tpr)\n",
        "    \n",
        "    plt.title('Receiver Operating Characteristic')\n",
        "    plt.plot(fpr, tpr, 'b', label = 'AUC = %0.2f' % roc_auc)\n",
        "    plt.legend(loc = 'lower right')\n",
        "    plt.plot([0, 1], [0, 1],'r--')\n",
        "    plt.xlim([0, 1])\n",
        "    plt.ylim([0, 1])\n",
        "    plt.ylabel('True Positive Rate')\n",
        "    plt.xlabel('False Positive Rate')\n",
        "    plt.show()\n",
        "    \n",
        "    return roc_auc\n",
        "\n",
        "\n",
        "def PrintStats(y_test, pred):\n",
        "    \n",
        "    f1Score = round(f1_score(y_test, pred), 2)\n",
        "    recallScore = round(recall_score(y_test, pred), 2)\n",
        "    precscore = round(precision_score(y_test, pred), 2)\n",
        "    mcc = round(matthews_corrcoef(y_test, pred), 2)\n",
        "    print(\"Precision for Model : {prec_score}\".format(prec_score = precscore))\n",
        "    print(\"Sensitivity/Recall for Model : {recall_score}\".format(recall_score = recallScore))\n",
        "    print(\"F1 Score for Model : {f1_score}\".format(f1_score = f1Score))\n",
        "    print(\"MCC Score for Model : {mcc_score}\".format(mcc_score = mcc))"
      ],
      "execution_count": 0,
      "outputs": []
    },
    {
      "cell_type": "code",
      "metadata": {
        "colab_type": "code",
        "id": "fULLLiGEjCaJ",
        "outputId": "347a36f1-25e5-4650-fff2-c719ae1dd9c5",
        "colab": {
          "base_uri": "https://localhost:8080/",
          "height": 379
        }
      },
      "source": [
        "y_pred_soft = y_pred_soft/num_estimators\n",
        "y_pred_final = []\n",
        "for i in y_pred_soft:\n",
        "    if i[0] > i[1]:\n",
        "        y_pred_final.append(0)\n",
        "    else:\n",
        "        y_pred_final.append(1)\n",
        "        \n",
        "PrintStats(y_test,y_pred_final)\n",
        "PlotROC(y_test,y_pred_soft[:,1])"
      ],
      "execution_count": 0,
      "outputs": [
        {
          "output_type": "stream",
          "text": [
            "Precision for Model : 0.96\n",
            "Sensitivity/Recall for Model : 0.76\n",
            "F1 Score for Model : 0.85\n",
            "MCC Score for Model : 0.32\n"
          ],
          "name": "stdout"
        },
        {
          "output_type": "display_data",
          "data": {
            "image/png": "[encoded data removed]",
            "text/plain": [
              "<Figure size 432x288 with 1 Axes>"
            ]
          },
          "metadata": {
            "tags": [],
            "needs_background": "light"
          }
        },
        {
          "output_type": "execute_result",
          "data": {
            "text/plain": [
              "0.8275286778649367"
            ]
          },
          "metadata": {
            "tags": []
          },
          "execution_count": 20
        }
      ]
    }
  ]
}